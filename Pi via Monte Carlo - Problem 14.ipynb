{
 "cells": [
  {
   "cell_type": "markdown",
   "metadata": {},
   "source": [
    "The area of a circle is defined as πr^2. Estimate π to 3 decimal places using a Monte Carlo method.\n",
    "\n",
    "Hint: The basic equation of a circle is x^2 + y^2 = r^2."
   ]
  },
  {
   "cell_type": "code",
   "execution_count": 2,
   "metadata": {},
   "outputs": [
    {
     "data": {
      "text/plain": [
       "pimc"
      ]
     },
     "execution_count": 2,
     "metadata": {},
     "output_type": "execute_result"
    }
   ],
   "source": [
    "\"Estimate of π by Monte Carlo: on average, fraction π/4 of n samples in [-1,1]^2 fall inside circle of \n",
    "radius 1 centered at 0; only compute upper quadrant.\"\n",
    "function pimc(n=100)\n",
    "    count_inside = 0\n",
    "    for i in 1:n\n",
    "        if rand()^2+rand()^2 < 1\n",
    "            count_inside += 1\n",
    "        end\n",
    "    end\n",
    "    4*count_inside/n\n",
    "end"
   ]
  },
  {
   "cell_type": "code",
   "execution_count": 9,
   "metadata": {},
   "outputs": [
    {
     "data": {
      "text/plain": [
       "2-element Vector{Float64}:\n",
       " 3.142\n",
       " 3.142"
      ]
     },
     "execution_count": 9,
     "metadata": {},
     "output_type": "execute_result"
    }
   ],
   "source": [
    "[round(x,digits=3) for x in [pimc(10_000_000), π]]"
   ]
  }
 ],
 "metadata": {
  "kernelspec": {
   "display_name": "Julia 1.6.1",
   "language": "julia",
   "name": "julia-1.6"
  },
  "language_info": {
   "file_extension": ".jl",
   "mimetype": "application/julia",
   "name": "julia",
   "version": "1.6.1"
  }
 },
 "nbformat": 4,
 "nbformat_minor": 4
}
