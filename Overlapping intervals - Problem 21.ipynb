{
 "cells": [
  {
   "cell_type": "markdown",
   "metadata": {},
   "source": [
    "This problem was asked by Snapchat.\n",
    "\n",
    "Given an array of time intervals (start, end) for classroom lectures (possibly overlapping), find the minimum number of rooms required.\n",
    "\n",
    "For example, given [(30, 75), (0, 50), (60, 150)], you should return 2."
   ]
  },
  {
   "cell_type": "markdown",
   "metadata": {},
   "source": [
    "Because no two lectures can simultaneously take place in the same classroom, this problem is equivalent to that of computing the maximum number of intervals that overlap at any point in time."
   ]
  },
  {
   "cell_type": "code",
   "execution_count": 81,
   "metadata": {},
   "outputs": [
    {
     "data": {
      "text/plain": [
       "isoverlap (generic function with 2 methods)"
      ]
     },
     "execution_count": 81,
     "metadata": {},
     "output_type": "execute_result"
    }
   ],
   "source": [
    "# True iff closed interval [start1,end1] overlaps [start2,end2].\n",
    "function isoverlap((start1, end1), (start2, end2))\n",
    "    # Overlap if start or end of one interval is within the other interval.\n",
    "    start1 <= start2 && start2 <= end1 || start1 <= end2 && end2 <= end1 ||\n",
    "        start2 <= start1 && start1 <= end2 || start2 <= end1 && end1 <= end2   \n",
    "end "
   ]
  },
  {
   "cell_type": "code",
   "execution_count": 82,
   "metadata": {},
   "outputs": [
    {
     "data": {
      "text/plain": [
       "\u001b[32m\u001b[1mTest Passed\u001b[22m\u001b[39m"
      ]
     },
     "execution_count": 82,
     "metadata": {},
     "output_type": "execute_result"
    }
   ],
   "source": [
    "using Test\n",
    "a,b,c = (30, 75), (0, 50), (60, 150)\n",
    "@test isoverlap(a, b)\n",
    "@test isoverlap(a, c)\n",
    "@test isoverlap(a, a)  # self-overlap\n",
    "@test !isoverlap(b, c)\n",
    "@test isoverlap((1,1),(0,50))"
   ]
  },
  {
   "cell_type": "code",
   "execution_count": null,
   "metadata": {},
   "outputs": [],
   "source": [
    "# TODO: what if interval [a,b] is malformed: b < a?"
   ]
  },
  {
   "cell_type": "code",
   "execution_count": 21,
   "metadata": {},
   "outputs": [
    {
     "data": {
      "text/plain": [
       "countoverlaps (generic function with 1 method)"
      ]
     },
     "execution_count": 21,
     "metadata": {},
     "output_type": "execute_result"
    }
   ],
   "source": [
    "#=   INCORRECT\n",
    "function countoverlaps(intervals)\n",
    "    maxoverlaps = 0\n",
    "    for i in intervals\n",
    "        overlaps = 0\n",
    "        for j in intervals\n",
    "            if isoverlap(i, j)\n",
    "                println(\"$i and $j overlap\")\n",
    "                overlaps += 1\n",
    "            end\n",
    "        end\n",
    "        if overlaps > maxoverlaps\n",
    "            maxoverlaps = overlaps\n",
    "        end\n",
    "    end\n",
    "    maxoverlaps\n",
    "end     \n",
    "=#"
   ]
  },
  {
   "cell_type": "markdown",
   "metadata": {},
   "source": [
    "One brute force approach is to consider each moment of time (here an integer) between the first start and the last end time and count the number of intervals overlapping it, and then find the maximal such count.  This has complexity O(tn), where t is the number of time instants and n is the number of intervals."
   ]
  },
  {
   "cell_type": "code",
   "execution_count": 86,
   "metadata": {},
   "outputs": [
    {
     "data": {
      "text/plain": [
       "\u001b[32m\u001b[1mTest Passed\u001b[22m\u001b[39m"
      ]
     },
     "execution_count": 86,
     "metadata": {},
     "output_type": "execute_result"
    }
   ],
   "source": [
    "function countoverlaps_brute(intervals)\n",
    "    mintime = minimum([i[1] for i in intervals])\n",
    "    maxtime = maximum([i[2] for i in intervals])\n",
    "    #println(\"$mintime $maxtime\")\n",
    "    maxcount = 0\n",
    "    for t in mintime:maxtime\n",
    "        count = 0  # at least one class\n",
    "        for i in intervals\n",
    "            #println(\"interval $i\")\n",
    "            if isoverlap((t,t), i)\n",
    "                #println(\"t=$t: found overlap with $i\")\n",
    "                count += 1\n",
    "            end\n",
    "        end\n",
    "        #println(\"t=$t has count $count\")\n",
    "        if count > maxcount\n",
    "            maxcount = count\n",
    "        end\n",
    "    end\n",
    "    maxcount\n",
    "end\n",
    "@test countoverlaps_brute([a,b,c]) == 2"
   ]
  },
  {
   "cell_type": "markdown",
   "metadata": {},
   "source": [
    "We can also frame this as a maximal clique problem as follows.  We set up a graph where each interval is a node and a link exists between nodes i and j iff intervals i and j overlap.  A set {i1,...,ik} of intervals  overlapping at a time instant is equivalent to all pairs of intervals in the set overlapping, i.e., links between all pairs of nodes constituting the set, which means the set is a clique.  The size (cardinality) of the clique represents the number of classrooms required for those intervals, so the size of the maximum clique is the maximum number of classrooms ever required."
   ]
  },
  {
   "cell_type": "markdown",
   "metadata": {},
   "source": [
    "Consider a node i and a complete graph (which includes i) of size n (the number of nodes/intervals).  For each node j not linked to i, we reduce by 1 the count of the potential clique which include i.  Find the minimum of these counts to get the maximum clique size.  Is this merely an upper bound on size of maximal clique?"
   ]
  },
  {
   "cell_type": "code",
   "execution_count": 53,
   "metadata": {},
   "outputs": [
    {
     "data": {
      "text/plain": [
       "countoverlaps (generic function with 1 method)"
      ]
     },
     "execution_count": 53,
     "metadata": {},
     "output_type": "execute_result"
    }
   ],
   "source": [
    "function countoverlaps(intervals)\n",
    "    notadj = [!isoverlap(i,j) for i in intervals, j in intervals]  # anti-adjacency matrix\n",
    "    println(notadj)\n",
    "    length(intervals) - maximum(sum(notadj, dims=1))\n",
    "end"
   ]
  },
  {
   "cell_type": "code",
   "execution_count": 54,
   "metadata": {},
   "outputs": [
    {
     "name": "stdout",
     "output_type": "stream",
     "text": [
      "Bool[0 0 0; 0 0 1; 0 1 0]\n"
     ]
    },
    {
     "data": {
      "text/plain": [
       "\u001b[32m\u001b[1mTest Passed\u001b[22m\u001b[39m"
      ]
     },
     "execution_count": 54,
     "metadata": {},
     "output_type": "execute_result"
    }
   ],
   "source": [
    "@test countoverlaps([a,b,c]) == 2"
   ]
  }
 ],
 "metadata": {
  "kernelspec": {
   "display_name": "Julia 1.6.1",
   "language": "julia",
   "name": "julia-1.6"
  },
  "language_info": {
   "file_extension": ".jl",
   "mimetype": "application/julia",
   "name": "julia",
   "version": "1.6.1"
  }
 },
 "nbformat": 4,
 "nbformat_minor": 4
}
