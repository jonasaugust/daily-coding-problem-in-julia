{
 "cells": [
  {
   "cell_type": "markdown",
   "metadata": {},
   "source": [
    "This problem was asked by Snapchat.\n",
    "\n",
    "Given an array of time intervals (start, end) for classroom lectures (possibly overlapping), find the minimum number of rooms required.\n",
    "\n",
    "For example, given [(30, 75), (0, 50), (60, 150)], you should return 2."
   ]
  },
  {
   "cell_type": "markdown",
   "metadata": {},
   "source": [
    "Because no two lectures can simultaneously take place in the same classroom, this problem is equivalent to that of computing the maximum number of intervals that overlap at any point in time."
   ]
  },
  {
   "cell_type": "code",
   "execution_count": 1,
   "metadata": {},
   "outputs": [
    {
     "data": {
      "text/plain": [
       "isoverlap (generic function with 1 method)"
      ]
     },
     "execution_count": 1,
     "metadata": {},
     "output_type": "execute_result"
    }
   ],
   "source": [
    "# True iff closed interval [start1,end1] overlaps [start2,end2].\n",
    "function isoverlap((start1, end1), (start2, end2))\n",
    "    # Overlap if start or end of one interval is within the other interval.\n",
    "    start1 <= start2 && start2 <= end1 || start1 <= end2 && end2 <= end1 ||\n",
    "        start2 <= start1 && start1 <= end2 || start2 <= end1 && end1 <= end2   \n",
    "end "
   ]
  },
  {
   "cell_type": "code",
   "execution_count": 2,
   "metadata": {},
   "outputs": [
    {
     "data": {
      "text/plain": [
       "\u001b[32m\u001b[1mTest Passed\u001b[22m\u001b[39m"
      ]
     },
     "execution_count": 2,
     "metadata": {},
     "output_type": "execute_result"
    }
   ],
   "source": [
    "using Test\n",
    "a,b,c = (30, 75), (0, 50), (60, 150)\n",
    "@test isoverlap(a, b)\n",
    "@test isoverlap(a, c)\n",
    "@test isoverlap(a, a)  # self-overlap\n",
    "@test !isoverlap(b, c)\n",
    "@test isoverlap((1,1),(0,50))"
   ]
  },
  {
   "cell_type": "code",
   "execution_count": 3,
   "metadata": {},
   "outputs": [
    {
     "data": {
      "text/plain": [
       "\u001b[32m\u001b[1mTest Passed\u001b[22m\u001b[39m"
      ]
     },
     "execution_count": 3,
     "metadata": {},
     "output_type": "execute_result"
    }
   ],
   "source": [
    "\"True iff tuple (a, b) is a well-formed interval, i.e., with a <= b.\"\n",
    "isinterval((a, b)) = a <= b\n",
    "\n",
    "@test isinterval((0, 1))\n",
    "@test isinterval((1, 1))\n",
    "@test all(isinterval.([a, b, c]))"
   ]
  },
  {
   "cell_type": "code",
   "execution_count": 4,
   "metadata": {},
   "outputs": [],
   "source": [
    "#=   INCORRECT:  This was an initial thought about the problem, but ignores overlaps of more than two.\n",
    "function countoverlaps_BAD(intervals)\n",
    "    maxoverlaps = 0\n",
    "    for i in intervals\n",
    "        overlaps = 0\n",
    "        for j in intervals\n",
    "            if isoverlap(i, j)\n",
    "                println(\"$i and $j overlap\")\n",
    "                overlaps += 1\n",
    "            end\n",
    "        end\n",
    "        if overlaps > maxoverlaps\n",
    "            maxoverlaps = overlaps\n",
    "        end\n",
    "    end\n",
    "    maxoverlaps\n",
    "end     \n",
    "=#"
   ]
  },
  {
   "cell_type": "markdown",
   "metadata": {},
   "source": [
    "One brute force approach is to consider each moment of time (here an integer) between the first start and the last end time and count the number of intervals overlapping it, and then find the maximal such count.  This has complexity O(tn), where t is the number of time instants and n is the number of intervals."
   ]
  },
  {
   "cell_type": "code",
   "execution_count": 5,
   "metadata": {},
   "outputs": [
    {
     "data": {
      "text/plain": [
       "\u001b[32m\u001b[1mTest Passed\u001b[22m\u001b[39m"
      ]
     },
     "execution_count": 5,
     "metadata": {},
     "output_type": "execute_result"
    }
   ],
   "source": [
    "function countoverlaps_brute(intervals)\n",
    "    @assert all(isinterval.(intervals))\n",
    "    mintime = minimum([i[1] for i in intervals])\n",
    "    maxtime = maximum([i[2] for i in intervals])\n",
    "    maxcount = 0\n",
    "    for t in mintime:maxtime\n",
    "        count = 0 \n",
    "        for i in intervals\n",
    "            if isoverlap((t,t), i)\n",
    "                count += 1\n",
    "            end\n",
    "        end\n",
    "        if count > maxcount\n",
    "            maxcount = count\n",
    "        end\n",
    "    end\n",
    "    maxcount\n",
    "end\n",
    "\n",
    "@test countoverlaps_brute([a,b,c]) == 2"
   ]
  },
  {
   "cell_type": "markdown",
   "metadata": {},
   "source": [
    "We don't actually need to check every time instant, but just the first and last of each interval."
   ]
  },
  {
   "cell_type": "code",
   "execution_count": 6,
   "metadata": {},
   "outputs": [
    {
     "data": {
      "text/plain": [
       "\u001b[32m\u001b[1mTest Passed\u001b[22m\u001b[39m"
      ]
     },
     "execution_count": 6,
     "metadata": {},
     "output_type": "execute_result"
    }
   ],
   "source": [
    "function countoverlaps_brute_ends(intervals)\n",
    "    @assert all(isinterval.(intervals))\n",
    "    maxcount = 0\n",
    "    ts = vcat([i[1] for i in intervals],[i[2] for i in intervals])\n",
    "    for t in ts\n",
    "        count = 0  \n",
    "        for i in intervals\n",
    "            if isoverlap((t,t), i)\n",
    "                count += 1\n",
    "            end\n",
    "        end\n",
    "        if count > maxcount\n",
    "            maxcount = count\n",
    "        end\n",
    "    end\n",
    "    maxcount\n",
    "end\n",
    "\n",
    "@test countoverlaps_brute_ends([a,b,c]) == 2"
   ]
  },
  {
   "cell_type": "markdown",
   "metadata": {},
   "source": [
    "We can also frame this as a maximal clique problem as follows.  We set up a graph where each interval is a node and a link exists between nodes i and j iff intervals i and j overlap.  A set {i1,...,ik} of intervals  overlapping at a time instant is equivalent to all pairs of intervals in the set overlapping, i.e., links between all pairs of nodes constituting the set, which means the set is a clique.  The size (cardinality) of the clique represents the number of classrooms required for those intervals, so the size of the maximum clique is the maximum number of classrooms ever required."
   ]
  },
  {
   "cell_type": "markdown",
   "metadata": {},
   "source": [
    "Consider a node i and a complete graph (which includes i) of size n (the number of nodes/intervals).  For each node j not linked to i, we reduce by 1 the count of the potential clique which include i.  (This ignores the absense of links between j and k, so isn't accurate, but is an upper bound.)  Find the minimum of these counts to bound the maximum clique size. "
   ]
  },
  {
   "cell_type": "code",
   "execution_count": 7,
   "metadata": {},
   "outputs": [
    {
     "data": {
      "text/plain": [
       "\u001b[32m\u001b[1mTest Passed\u001b[22m\u001b[39m"
      ]
     },
     "execution_count": 7,
     "metadata": {},
     "output_type": "execute_result"
    }
   ],
   "source": [
    "function countoverlaps_clique_bound(intervals)\n",
    "    notadj = [!isoverlap(i,j) for i in intervals, j in intervals]  # anti-adjacency matrix\n",
    "    length(intervals) - maximum(sum(notadj, dims=1))\n",
    "end\n",
    "\n",
    "@test countoverlaps_clique_bound([a,b,c]) == 2"
   ]
  }
 ],
 "metadata": {
  "@webio": {
   "lastCommId": null,
   "lastKernelId": null
  },
  "kernelspec": {
   "display_name": "Julia 1.6.1",
   "language": "julia",
   "name": "julia-1.6"
  },
  "language_info": {
   "file_extension": ".jl",
   "mimetype": "application/julia",
   "name": "julia",
   "version": "1.6.1"
  }
 },
 "nbformat": 4,
 "nbformat_minor": 4
}
