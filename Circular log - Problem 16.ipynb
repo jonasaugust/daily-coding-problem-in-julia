{
 "cells": [
  {
   "cell_type": "markdown",
   "metadata": {},
   "source": [
    "This problem was asked by Twitter.\n",
    "\n",
    "You run an e-commerce website and want to record the last N order ids in a log. Implement a data structure to accomplish this, with the following API:\n",
    "\n",
    "    record(order_id): adds the order_id to the log\n",
    "    get_last(i): gets the ith last element from the log. i is guaranteed to be smaller than or equal to N.\n",
    "\n",
    "You should be as efficient with time and space as possible."
   ]
  },
  {
   "cell_type": "code",
   "execution_count": 16,
   "metadata": {},
   "outputs": [
    {
     "data": {
      "text/plain": [
       "get_last (generic function with 1 method)"
      ]
     },
     "execution_count": 16,
     "metadata": {},
     "output_type": "execute_result"
    }
   ],
   "source": [
    "using OffsetArrays\n",
    "\n",
    "mutable struct Idlog\n",
    "    # [oldest,newest) is half closed, half open interval, mod length(data)\n",
    "    oldest::Int\n",
    "    newest::Int\n",
    "    data::OffsetVector{Int}\n",
    "end\n",
    "\n",
    "N = 3\n",
    "idlog = Idlog(0,0,zeros(Int,0:N-1))\n",
    "\n",
    "function record(order_id)\n",
    "    N = length(idlog.data)\n",
    "    # increment oldest if log is full\n",
    "    if (idlog.newest - idlog.oldest + N) % N >= N\n",
    "        idlog.oldest = (idlog.oldest + 1) % N\n",
    "    end\n",
    "    idlog.newest = (idlog.newest + 1) % N\n",
    "    idlog.data[(idlog.newest-1+N)%N] = order_id\n",
    "end\n",
    "\n",
    "function get_last(i)\n",
    "    N = length(idlog.data)\n",
    "    idlog.data[(idlog.newest - i + N) % N]\n",
    "end"
   ]
  },
  {
   "cell_type": "code",
   "execution_count": 17,
   "metadata": {},
   "outputs": [
    {
     "name": "stdout",
     "output_type": "stream",
     "text": [
      "x = [59, 42, 32, 89, 63, 98]\n",
      "98\n",
      "63\n",
      "89\n"
     ]
    }
   ],
   "source": [
    "x = rand(1:99,6)\n",
    "@show (x)\n",
    "for i in x\n",
    "    record(i)\n",
    "end\n",
    "\n",
    "for i in 1:N\n",
    "    println(get_last(i))\n",
    "end"
   ]
  }
 ],
 "metadata": {
  "@webio": {
   "lastCommId": null,
   "lastKernelId": null
  },
  "kernelspec": {
   "display_name": "Julia 1.6.1",
   "language": "julia",
   "name": "julia-1.6"
  },
  "language_info": {
   "file_extension": ".jl",
   "mimetype": "application/julia",
   "name": "julia",
   "version": "1.6.1"
  }
 },
 "nbformat": 4,
 "nbformat_minor": 4
}
