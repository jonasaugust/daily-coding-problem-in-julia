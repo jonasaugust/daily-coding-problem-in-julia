{
 "cells": [
  {
   "cell_type": "markdown",
   "metadata": {},
   "source": [
    "This problem was asked by Facebook.\n",
    "\n",
    "Given a stream of elements too large to store in memory, pick a random element from the stream with uniform probability."
   ]
  },
  {
   "cell_type": "code",
   "execution_count": 1,
   "metadata": {},
   "outputs": [
    {
     "data": {
      "text/plain": [
       "makestream"
      ]
     },
     "execution_count": 1,
     "metadata": {},
     "output_type": "execute_result"
    }
   ],
   "source": [
    "data = randn(3)\n",
    "\n",
    "\"Returns a function that returns next element from data, or nothing if finished.\"\n",
    "function makestream(data)\n",
    "    i = 0\n",
    "    function next()\n",
    "        i += 1\n",
    "        i <= length(data) ? data[i] : nothing\n",
    "    end\n",
    "    next\n",
    "end"
   ]
  },
  {
   "cell_type": "code",
   "execution_count": 2,
   "metadata": {},
   "outputs": [
    {
     "data": {
      "text/plain": [
       "3-element Vector{Float64}:\n",
       " -0.2398490695623169\n",
       " -1.6800105241515257\n",
       "  1.5022265173191045"
      ]
     },
     "execution_count": 2,
     "metadata": {},
     "output_type": "execute_result"
    }
   ],
   "source": [
    "data"
   ]
  },
  {
   "cell_type": "code",
   "execution_count": 3,
   "metadata": {},
   "outputs": [
    {
     "name": "stdout",
     "output_type": "stream",
     "text": [
      "-0.2398490695623169\n",
      "-1.6800105241515257\n",
      "1.5022265173191045\n",
      "nothing\n",
      "nothing\n",
      "nothing\n",
      "nothing\n",
      "nothing\n",
      "nothing\n",
      "nothing\n"
     ]
    }
   ],
   "source": [
    "stream = makestream(data)\n",
    "for k = 1:10\n",
    "    println(stream())\n",
    "end"
   ]
  },
  {
   "cell_type": "code",
   "execution_count": 4,
   "metadata": {},
   "outputs": [
    {
     "data": {
      "text/plain": [
       "randnat"
      ]
     },
     "execution_count": 4,
     "metadata": {},
     "output_type": "execute_result"
    }
   ],
   "source": [
    "\"Random natural number from 1 to n≥1.\"\n",
    "randnat(n::Int) = Int(ceil(n*rand()))  # n*rand() is uniform RV on real interval [0,n)"
   ]
  },
  {
   "cell_type": "code",
   "execution_count": 5,
   "metadata": {},
   "outputs": [
    {
     "data": {
      "text/plain": [
       "pickn"
      ]
     },
     "execution_count": 5,
     "metadata": {},
     "output_type": "execute_result"
    }
   ],
   "source": [
    "\"Return a uniformly random element of stream where total number of elements is known.\"\n",
    "function pickn(stream, n::Int)\n",
    "    # Pick a random integer i from 1 to n, then return the i-th element using stream.\n",
    "    i = randnat(n)\n",
    "    local value\n",
    "    for j in 1:i\n",
    "        value = stream()\n",
    "    end\n",
    "    value\n",
    "end"
   ]
  },
  {
   "cell_type": "code",
   "execution_count": 6,
   "metadata": {},
   "outputs": [
    {
     "name": "stdout",
     "output_type": "stream",
     "text": [
      "[-0.2398490695623169, -1.6800105241515257, 1.5022265173191045]\n"
     ]
    },
    {
     "data": {
      "text/plain": [
       "-1.6800105241515257"
      ]
     },
     "execution_count": 6,
     "metadata": {},
     "output_type": "execute_result"
    }
   ],
   "source": [
    "stream = makestream(data)\n",
    "println(data)\n",
    "pickn(stream,length(data))"
   ]
  },
  {
   "cell_type": "markdown",
   "metadata": {},
   "source": [
    "In the case where the number of elements is unknown ahead of time, we could, in principle, read each element from the stream into a growing array until we reach the end of the stream (signaled by \"nothing\" return value), and then we'd know the number of elements, so that we could then uniformly pick a random element from this array.  Or conceivably we could apply '''pickn''' in another pass, but we'd need some way to \"reset\" stream to start from the beginning.  But by assumption we don't necessarily have enough memory or are unwilling to provide it.  So how can we handle this?\n",
    "\n",
    "My approach is to consider the probability of picking the last element from the stream: $1/n$, for $n$ elements total.  That means there's an $(n-1)/n$ probability of picking one of the previous elements.  We can think of a biased coin where we \"keep\" the one of the first $n-1$ elements with probability $(n-1)/n$, or swap with the last one with probability $1/n$.  This suggests a scheme where we act _as if_ the next element from the stream is the last element, and we swap with it with probability $1/n$, where now $n$ is the number of elements _so far_.  We always start by picking the first element, and we obviously don't change our chosen element if the stream is empty.  At every step we always have a uniform selection of all the elements in the stream that far along."
   ]
  },
  {
   "cell_type": "code",
   "execution_count": 7,
   "metadata": {},
   "outputs": [
    {
     "data": {
      "text/plain": [
       "pick"
      ]
     },
     "execution_count": 7,
     "metadata": {},
     "output_type": "execute_result"
    }
   ],
   "source": [
    "\"Return a uniformly random element of stream where total number of elements is unknown but finite.\"\n",
    "function pick(stream)\n",
    "    n = 1\n",
    "    next = stream()\n",
    "    local choice  # = nothing\n",
    "    while !isnothing(next)\n",
    "        if rand() < 1/n\n",
    "            choice = next\n",
    "        end\n",
    "        n += 1\n",
    "        next = stream()\n",
    "    end\n",
    "    choice  \n",
    "end"
   ]
  },
  {
   "cell_type": "code",
   "execution_count": 8,
   "metadata": {},
   "outputs": [
    {
     "name": "stdout",
     "output_type": "stream",
     "text": [
      "1.5022265173191045\n"
     ]
    }
   ],
   "source": [
    "stream = makestream(data)\n",
    "println(pick(stream))"
   ]
  }
 ],
 "metadata": {
  "@webio": {
   "lastCommId": null,
   "lastKernelId": null
  },
  "kernelspec": {
   "display_name": "Julia 1.6.1",
   "language": "julia",
   "name": "julia-1.6"
  },
  "language_info": {
   "file_extension": ".jl",
   "mimetype": "application/julia",
   "name": "julia",
   "version": "1.6.1"
  }
 },
 "nbformat": 4,
 "nbformat_minor": 4
}
